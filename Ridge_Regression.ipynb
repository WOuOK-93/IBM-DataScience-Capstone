{
  "nbformat": 4,
  "nbformat_minor": 0,
  "metadata": {
    "colab": {
      "name": "Ridge Regression.ipynb",
      "provenance": [],
      "authorship_tag": "ABX9TyN7TYlF/YVqARibEGvVcgaA",
      "include_colab_link": true
    },
    "kernelspec": {
      "name": "ir",
      "display_name": "R"
    }
  },
  "cells": [
    {
      "cell_type": "markdown",
      "metadata": {
        "id": "view-in-github",
        "colab_type": "text"
      },
      "source": [
        "<a href=\"https://colab.research.google.com/github/WOuOK-93/IBM-DataScience-Capstone/blob/master/Ridge_Regression.ipynb\" target=\"_parent\"><img src=\"https://colab.research.google.com/assets/colab-badge.svg\" alt=\"Open In Colab\"/></a>"
      ]
    },
    {
      "cell_type": "markdown",
      "metadata": {
        "id": "dR8Srl4Sj7iY"
      },
      "source": [
        "$A \\cdot r \\sim b$\n",
        "\n",
        "$A \\cdot (b - Ar) = 0$\n",
        "\n",
        "$A^{T}(b - Ar) = 0$\n",
        "\n",
        "$A^{T}Ar = A^{T}b$\n",
        "\n",
        "$r = (A^{T}A)^{-1}A^{T}b$"
      ]
    },
    {
      "cell_type": "code",
      "metadata": {
        "id": "E2Q11nlXjtML"
      },
      "source": [
        "lr_algebra <- function(A, b) { solve(t(A) %*% A) %*% t(A) %*% b }"
      ],
      "execution_count": 1,
      "outputs": []
    },
    {
      "cell_type": "markdown",
      "metadata": {
        "id": "NugFqRUVj8Vd"
      },
      "source": [
        "$Cost = (b - Ar)^2 + \\lambda r^2$\n",
        "\n",
        "$\\frac{\\partial}{\\partial r}Cost = -2A \\cdot (b- Ar) + 2 \\lambda r $\n",
        "\n",
        "$ Ab = (A^2 + \\lambda)r$\n",
        "\n",
        "$r = (A^TA+\\lambda I)^{-1} \\cdot A^Tb$"
      ]
    },
    {
      "cell_type": "code",
      "metadata": {
        "id": "DV6uVSnGluz8"
      },
      "source": [
        "l2_algebra <- function(A, b, lambda = 0.5) {\n",
        "ATA <- t(A) %*% A\n",
        "lambda_I <- lambda*diag(dim(ATA)[1])\n",
        "solve(ATA + lambda_I) %*% t(A) %*% b\n",
        "}"
      ],
      "execution_count": 2,
      "outputs": []
    },
    {
      "cell_type": "code",
      "metadata": {
        "id": "SfrTixjemuG8",
        "outputId": "1504b4e3-81ae-420f-8721-e7f8aeca890f",
        "colab": {
          "base_uri": "https://localhost:8080/",
          "height": 207
        }
      },
      "source": [
        "iris_mat <- as.matrix(iris[,1:4])\n",
        "lr_algebra(iris_mat[, 1:3], iris_mat[, 4])\n",
        "l2_algebra(iris_mat[, 1:3], iris_mat[, 4], 0.5)"
      ],
      "execution_count": 3,
      "outputs": [
        {
          "output_type": "display_data",
          "data": {
            "text/plain": [
              "             [,1]      \n",
              "Sepal.Length -0.2456051\n",
              "Sepal.Width   0.2040508\n",
              "Petal.Length  0.5355216"
            ],
            "text/latex": "A matrix: 3 × 1 of type dbl\n\\begin{tabular}{r|l}\n\tSepal.Length & -0.2456051\\\\\n\tSepal.Width &  0.2040508\\\\\n\tPetal.Length &  0.5355216\\\\\n\\end{tabular}\n",
            "text/markdown": "\nA matrix: 3 × 1 of type dbl\n\n| Sepal.Length | -0.2456051 |\n| Sepal.Width |  0.2040508 |\n| Petal.Length |  0.5355216 |\n\n",
            "text/html": [
              "<table>\n",
              "<caption>A matrix: 3 × 1 of type dbl</caption>\n",
              "<tbody>\n",
              "\t<tr><th scope=row>Sepal.Length</th><td>-0.2456051</td></tr>\n",
              "\t<tr><th scope=row>Sepal.Width</th><td> 0.2040508</td></tr>\n",
              "\t<tr><th scope=row>Petal.Length</th><td> 0.5355216</td></tr>\n",
              "</tbody>\n",
              "</table>\n"
            ]
          },
          "metadata": {
            "tags": []
          }
        },
        {
          "output_type": "display_data",
          "data": {
            "text/plain": [
              "             [,1]      \n",
              "Sepal.Length -0.2307847\n",
              "Sepal.Width   0.1864478\n",
              "Petal.Length  0.5268403"
            ],
            "text/latex": "A matrix: 3 × 1 of type dbl\n\\begin{tabular}{r|l}\n\tSepal.Length & -0.2307847\\\\\n\tSepal.Width &  0.1864478\\\\\n\tPetal.Length &  0.5268403\\\\\n\\end{tabular}\n",
            "text/markdown": "\nA matrix: 3 × 1 of type dbl\n\n| Sepal.Length | -0.2307847 |\n| Sepal.Width |  0.1864478 |\n| Petal.Length |  0.5268403 |\n\n",
            "text/html": [
              "<table>\n",
              "<caption>A matrix: 3 × 1 of type dbl</caption>\n",
              "<tbody>\n",
              "\t<tr><th scope=row>Sepal.Length</th><td>-0.2307847</td></tr>\n",
              "\t<tr><th scope=row>Sepal.Width</th><td> 0.1864478</td></tr>\n",
              "\t<tr><th scope=row>Petal.Length</th><td> 0.5268403</td></tr>\n",
              "</tbody>\n",
              "</table>\n"
            ]
          },
          "metadata": {
            "tags": []
          }
        }
      ]
    }
  ]
}